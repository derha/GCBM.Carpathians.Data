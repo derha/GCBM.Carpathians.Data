{
 "cells": [
  {
   "cell_type": "markdown",
   "id": "b86ca926",
   "metadata": {},
   "source": [
    "The Chapman-Richards growth function"
   ]
  },
  {
   "cell_type": "code",
   "execution_count": 1,
   "id": "4037ab40",
   "metadata": {},
   "outputs": [],
   "source": [
    "import numpy as np\n",
    "\n",
    "def growth_curve(age, A, k, p):\n",
    "    return A * (1 - np.exp(-k * age))**p"
   ]
  },
  {
   "cell_type": "markdown",
   "id": "2fcdf4c7",
   "metadata": {},
   "source": [
    "# 1. Data Exploration"
   ]
  },
  {
   "cell_type": "markdown",
   "id": "fb7532a2",
   "metadata": {},
   "source": [
    "Data source: https://doi.org/10.3390/f12070823"
   ]
  },
  {
   "cell_type": "code",
   "execution_count": 2,
   "id": "b30a023e",
   "metadata": {},
   "outputs": [],
   "source": [
    "import matplotlib.pyplot as plt\n",
    "from scipy.optimize import curve_fit"
   ]
  },
  {
   "cell_type": "markdown",
   "id": "8425c3c5",
   "metadata": {},
   "source": [
    "## 1.1 Norway Spruce"
   ]
  },
  {
   "cell_type": "code",
   "execution_count": 3,
   "id": "2d74be2c",
   "metadata": {},
   "outputs": [],
   "source": [
    "# age\n",
    "x_data = np.array([14, 18, 28, 43, 43, 43, 99, 99, 99, 105, 114, 119])\n",
    "# AGB\n",
    "y_data = np.array([20.99, 31.95, 20.73, 111.71, 112.91, 45.71, 296.97, 104.5, 162.8, 155.73, 199.07, 224.54])"
   ]
  },
  {
   "cell_type": "markdown",
   "id": "e998d181",
   "metadata": {},
   "source": [
    "Fit growth curve function and get parameters"
   ]
  },
  {
   "cell_type": "code",
   "execution_count": 4,
   "id": "b1fb0e4c",
   "metadata": {},
   "outputs": [
    {
     "name": "stderr",
     "output_type": "stream",
     "text": [
      "C:\\Users\\mi92\\AppData\\Local\\Temp\\ipykernel_16544\\1581336284.py:4: RuntimeWarning: overflow encountered in exp\n",
      "  return A * (1 - np.exp(-k * age))**p\n",
      "C:\\Users\\mi92\\AppData\\Local\\Temp\\ipykernel_16544\\1581336284.py:4: RuntimeWarning: invalid value encountered in power\n",
      "  return A * (1 - np.exp(-k * age))**p\n"
     ]
    },
    {
     "data": {
      "text/plain": [
       "array([2.61126612e+02, 1.74074170e-02, 1.78619818e+00])"
      ]
     },
     "execution_count": 4,
     "metadata": {},
     "output_type": "execute_result"
    }
   ],
   "source": [
    "params, _ = curve_fit(growth_curve, x_data, y_data, [100, 1, 1])\n",
    "params"
   ]
  },
  {
   "cell_type": "markdown",
   "id": "c6e4243c",
   "metadata": {},
   "source": [
    "Visualize the growth curve"
   ]
  },
  {
   "cell_type": "code",
   "execution_count": 5,
   "id": "392aa1c0",
   "metadata": {},
   "outputs": [
    {
     "data": {
      "image/png": "[encoded data removed]",
      "text/plain": [
       "<Figure size 432x288 with 1 Axes>"
      ]
     },
     "metadata": {
      "needs_background": "light"
     },
     "output_type": "display_data"
    }
   ],
   "source": [
    "plt.scatter(x_data, y_data, label='data')\n",
    "x = np.linspace(1, 120, 120)\n",
    "plt.plot(x, growth_curve(x, *params), 'r-', label='growth curve')\n",
    "\n",
    "plt.title('NORWAY SPRUCE GROWTH CURVE')\n",
    "plt.xlabel('Age (year)')\n",
    "plt.ylabel('AGB (Mg ha-1)')\n",
    "plt.legend()\n",
    "plt.show()"
   ]
  },
  {
   "cell_type": "markdown",
   "id": "ec1b859d",
   "metadata": {},
   "source": [
    "## 1.2 European Beech"
   ]
  },
  {
   "cell_type": "code",
   "execution_count": 6,
   "id": "977397a3",
   "metadata": {},
   "outputs": [],
   "source": [
    "# age\n",
    "x_data = np.array([30, 40, 55, 55, 60, 60, 85, 85])\n",
    "# AGB\n",
    "y_data = np.array([52.36, 444.5, 130.59, 138.53, 199.45, 38.01, 337.35, 440.36])"
   ]
  },
  {
   "cell_type": "code",
   "execution_count": 7,
   "id": "bc03f950",
   "metadata": {},
   "outputs": [
    {
     "name": "stderr",
     "output_type": "stream",
     "text": [
      "C:\\Users\\mi92\\miniconda3\\envs\\carpathians\\lib\\site-packages\\scipy\\optimize\\minpack.py:833: OptimizeWarning: Covariance of the parameters could not be estimated\n",
      "  warnings.warn('Covariance of the parameters could not be estimated',\n"
     ]
    },
    {
     "data": {
      "text/plain": [
       "array([222.64375,   2.7    ,   2.     ])"
      ]
     },
     "execution_count": 7,
     "metadata": {},
     "output_type": "execute_result"
    }
   ],
   "source": [
    "params, _ = curve_fit(growth_curve, x_data, y_data, [300, 2.7, 2])\n",
    "params"
   ]
  },
  {
   "cell_type": "code",
   "execution_count": 8,
   "id": "49dde0c7",
   "metadata": {},
   "outputs": [
    {
     "data": {
      "image/png": "[encoded data removed]",
      "text/plain": [
       "<Figure size 432x288 with 1 Axes>"
      ]
     },
     "metadata": {
      "needs_background": "light"
     },
     "output_type": "display_data"
    }
   ],
   "source": [
    "plt.scatter(x_data, y_data, label='data')\n",
    "x = np.linspace(1, 120, 120)\n",
    "plt.plot(x, growth_curve(x, *params), 'r-', label='growth curve')\n",
    "\n",
    "plt.title('EUROPEAN BEECH GROWTH CURVE')\n",
    "plt.xlabel('Age (year)')\n",
    "plt.ylabel('AGB (Mg ha-1)')\n",
    "plt.legend()\n",
    "plt.show()"
   ]
  },
  {
   "cell_type": "markdown",
   "id": "12c9793a",
   "metadata": {},
   "source": [
    "## 1.3 Silver Fir"
   ]
  },
  {
   "cell_type": "code",
   "execution_count": 9,
   "id": "24efebca",
   "metadata": {},
   "outputs": [],
   "source": [
    "# age\n",
    "x_data = np.array([33, 45, 60, 60, 75, 85, 91, 115])\n",
    "# AGB\n",
    "y_data = np.array([26.02, 108.27, 61.76, 92.54, 246.98, 142.86, 317.32, 226.9])"
   ]
  },
  {
   "cell_type": "code",
   "execution_count": 10,
   "id": "700e9811",
   "metadata": {},
   "outputs": [
    {
     "name": "stderr",
     "output_type": "stream",
     "text": [
      "C:\\Users\\mi92\\AppData\\Local\\Temp\\ipykernel_16544\\1581336284.py:4: RuntimeWarning: overflow encountered in exp\n",
      "  return A * (1 - np.exp(-k * age))**p\n",
      "C:\\Users\\mi92\\AppData\\Local\\Temp\\ipykernel_16544\\1581336284.py:4: RuntimeWarning: invalid value encountered in power\n",
      "  return A * (1 - np.exp(-k * age))**p\n"
     ]
    },
    {
     "data": {
      "text/plain": [
       "array([2.85665063e+02, 3.96465469e-02, 8.52847805e+00])"
      ]
     },
     "execution_count": 10,
     "metadata": {},
     "output_type": "execute_result"
    }
   ],
   "source": [
    "params, _ = curve_fit(growth_curve, x_data, y_data, [250, 0.3, 1])\n",
    "params"
   ]
  },
  {
   "cell_type": "code",
   "execution_count": 11,
   "id": "93eb3d81",
   "metadata": {},
   "outputs": [
    {
     "data": {
      "image/png": "[encoded data removed]",
      "text/plain": [
       "<Figure size 432x288 with 1 Axes>"
      ]
     },
     "metadata": {
      "needs_background": "light"
     },
     "output_type": "display_data"
    }
   ],
   "source": [
    "plt.scatter(x_data, y_data, label='data')\n",
    "x = np.linspace(1, 120, 120)\n",
    "plt.plot(x, growth_curve(x, *params), 'r-', label='growth curve')\n",
    "\n",
    "plt.title('SILVER FIR GROWTH CURVE')\n",
    "plt.xlabel('Age (year)')\n",
    "plt.ylabel('AGB Mg ha-1')\n",
    "plt.legend()\n",
    "plt.show()"
   ]
  },
  {
   "cell_type": "markdown",
   "id": "34cc9648",
   "metadata": {},
   "source": [
    "# 2. Make csv file"
   ]
  },
  {
   "cell_type": "markdown",
   "id": "ae5e4258",
   "metadata": {},
   "source": [
    "Make a file that will be accepted by Recliner2GCBM"
   ]
  },
  {
   "cell_type": "code",
   "execution_count": 12,
   "id": "c5b6c967",
   "metadata": {},
   "outputs": [],
   "source": [
    "import csv\n",
    "\n",
    "# parameters from Norway Spruce\n",
    "def growth_curveNS(age):\n",
    "    return 2.61126612e+02 * (1 - np.exp(-1.74074170e-02 * age))**1.78619818e+00"
   ]
  },
  {
   "cell_type": "code",
   "execution_count": 13,
   "id": "c2bff23a",
   "metadata": {},
   "outputs": [],
   "source": [
    "agb_values = [growth_curveNS(age) for age in range(201)]\n",
    "header     = ['LifeZone', 'AIDBSPP'] + list(range(201))\n",
    "life_zones = ['Boreal wet forest', 'Cool temperate moist forest', 'Cool temperate steppe', \n",
    "              'Cool temperate wet forest', 'Polar rain tundra']\n",
    "species    = 'Norway spruce'"
   ]
  },
  {
   "cell_type": "code",
   "execution_count": 14,
   "id": "39a1e6b1",
   "metadata": {},
   "outputs": [],
   "source": [
    "with open('Growth_Curves.csv', 'w') as gc_file:\n",
    "    gc_writer = csv.writer(gc_file, delimiter=',', quotechar='\"', quoting=csv.QUOTE_MINIMAL)\n",
    "    \n",
    "    gc_writer.writerow(header)\n",
    "    for life_zone in life_zones:\n",
    "        gc_writer.writerow([life_zone] + [species] + agb_values)"
   ]
  },
  {
   "cell_type": "markdown",
   "id": "65831efa",
   "metadata": {},
   "source": [
    "Check"
   ]
  },
  {
   "cell_type": "code",
   "execution_count": 15,
   "id": "d925e4ca",
   "metadata": {},
   "outputs": [
    {
     "name": "stdout",
     "output_type": "stream",
     "text": [
      "                      LifeZone        AIDBSPP    0        1         2  \\\n",
      "0            Boreal wet forest  Norway spruce  0.0  0.18523  0.629055   \n",
      "1  Cool temperate moist forest  Norway spruce  0.0  0.18523  0.629055   \n",
      "2        Cool temperate steppe  Norway spruce  0.0  0.18523  0.629055   \n",
      "3    Cool temperate wet forest  Norway spruce  0.0  0.18523  0.629055   \n",
      "4            Polar rain tundra  Norway spruce  0.0  0.18523  0.629055   \n",
      "\n",
      "          3         4         5         6         7  ...         191  \\\n",
      "0  1.277968  2.103788  3.086305  4.209478  5.459891  ...  244.583056   \n",
      "1  1.277968  2.103788  3.086305  4.209478  5.459891  ...  244.583056   \n",
      "2  1.277968  2.103788  3.086305  4.209478  5.459891  ...  244.583056   \n",
      "3  1.277968  2.103788  3.086305  4.209478  5.459891  ...  244.583056   \n",
      "4  1.277968  2.103788  3.086305  4.209478  5.459891  ...  244.583056   \n",
      "\n",
      "          192         193         194         195        196         197  \\\n",
      "0  244.864499  245.141223  245.413306  245.680824  245.94385  246.202457   \n",
      "1  244.864499  245.141223  245.413306  245.680824  245.94385  246.202457   \n",
      "2  244.864499  245.141223  245.413306  245.680824  245.94385  246.202457   \n",
      "3  244.864499  245.141223  245.413306  245.680824  245.94385  246.202457   \n",
      "4  244.864499  245.141223  245.413306  245.680824  245.94385  246.202457   \n",
      "\n",
      "          198         199         200  \n",
      "0  246.456719  246.706705  246.952486  \n",
      "1  246.456719  246.706705  246.952486  \n",
      "2  246.456719  246.706705  246.952486  \n",
      "3  246.456719  246.706705  246.952486  \n",
      "4  246.456719  246.706705  246.952486  \n",
      "\n",
      "[5 rows x 203 columns]\n"
     ]
    }
   ],
   "source": [
    "import pandas as pd\n",
    "\n",
    "data = pd.read_csv('Growth_Curves.csv')\n",
    "print(data)"
   ]
  }
 ],
 "metadata": {
  "kernelspec": {
   "display_name": "Python 3 (ipykernel)",
   "language": "python",
   "name": "python3"
  },
  "language_info": {
   "codemirror_mode": {
    "name": "ipython",
    "version": 3
   },
   "file_extension": ".py",
   "mimetype": "text/x-python",
   "name": "python",
   "nbconvert_exporter": "python",
   "pygments_lexer": "ipython3",
   "version": "3.9.12"
  }
 },
 "nbformat": 4,
 "nbformat_minor": 5
}
