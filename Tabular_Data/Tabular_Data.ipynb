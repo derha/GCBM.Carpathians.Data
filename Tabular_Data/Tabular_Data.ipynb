{
 "cells": [
  {
   "cell_type": "markdown",
   "id": "6e3bea8f",
   "metadata": {},
   "source": [
    "The purpose of this section is to preprocess tabular data for GCBM.Carpathians. The output `Growth_Curves.csv` is available in the `output` directory."
   ]
  },
  {
   "cell_type": "markdown",
   "id": "428669bf",
   "metadata": {},
   "source": [
    "# 0. Imports"
   ]
  },
  {
   "cell_type": "markdown",
   "id": "95645ce6",
   "metadata": {},
   "source": [
    "Import required modules."
   ]
  },
  {
   "cell_type": "code",
   "execution_count": 1,
   "id": "9caffd76",
   "metadata": {},
   "outputs": [],
   "source": [
    "# data mainpulation \n",
    "import numpy as np\n",
    "import pandas as pd\n",
    "\n",
    "# plots and graphs\n",
    "import matplotlib.pyplot as plt\n",
    "\n",
    "# function fit\n",
    "from scipy.optimize import curve_fit\n",
    "\n",
    "# disable warnings\n",
    "import warnings\n",
    "warnings.filterwarnings('ignore')\n",
    "\n",
    "# save output\n",
    "import os\n",
    "import csv"
   ]
  },
  {
   "cell_type": "markdown",
   "id": "3391c109",
   "metadata": {},
   "source": [
    "# 1. Data Source"
   ]
  },
  {
   "cell_type": "markdown",
   "id": "5f7dc7ad",
   "metadata": {},
   "source": [
    "Finding data from the literature can be time consuming. Here are some tips how to find and extract data for the GCBM simulation:\n",
    "\n",
    "**Literature search:**\n",
    "\n",
    "Perform a literature search in Google Scholar or ISI web of Science using combination of keywords including:\n",
    "- AGB increment forest\n",
    "- stand growth curve forest\n",
    "- stand dynamics forest\n",
    "- merchantable volume forest\n",
    "- biomass dynamics forest\n",
    "\n",
    "You might also need to include keywords that describe your forest (e.g. temperate, tropical, boreal).\n",
    "\n",
    "**Data extraction:**\n",
    "\n",
    "Open a paper and extract AGB biomass data across time from data tables or graphs.\n",
    "Interesting parameters are:\n",
    "- Above ground biomass (ABG; often in tonnes per hectare)\n",
    "- Above ground biomass to below ground biomass ratio (AGB:BGB) \n",
    "- Species or group\n",
    "- Age\n",
    "- Forest condition (e.g. primary or secondary forest)\n",
    "\n",
    "You can use [WebPlotDigitizer - Extract data from plots, images, and maps](https://automeris.io/WebPlotDigitizer/) to automatically extract data from graphs and figures.\n",
    "\n",
    "Data for Carpathian montane forests was extracted from the following article:\n",
    "\n",
    "Zielonka A, Drewnik M, Musielok Ł, Dyderski MK, Struzik D, Smułek G, Ostapowicz K. Biotic and Abiotic Determinants of Soil Organic Matter Stock and Fine Root Biomass in Mountain Area Temperate Forests—Examples from Cambisols under European Beech, Norway Spruce, and Silver Fir (Carpathians, Central Europe). Forests. 2021; 12(7):823. https://doi.org/10.3390/f12070823 "
   ]
  },
  {
   "cell_type": "markdown",
   "id": "a84c70a8",
   "metadata": {},
   "source": [
    "# 2. Chapman-Richards Growth Function"
   ]
  },
  {
   "cell_type": "markdown",
   "id": "b86ca926",
   "metadata": {},
   "source": [
    "The Chapman-Richards growth function has been a popular model for describing the growth of various tree and forest stand growth variables, e.g. tree and stand height, diameter at breast height, basal area and volume. As such it has been and is still widely used in many empirical forest growth simulators, particularly where the accuracy of model prediction is crucial. "
   ]
  },
  {
   "cell_type": "code",
   "execution_count": 2,
   "id": "4037ab40",
   "metadata": {},
   "outputs": [],
   "source": [
    "def growth_curve(age, A, k, p):\n",
    "    return A * (1 - np.exp(-k * age))**p"
   ]
  },
  {
   "cell_type": "markdown",
   "id": "2fcdf4c7",
   "metadata": {},
   "source": [
    "# 3. Curve Fitting"
   ]
  },
  {
   "cell_type": "markdown",
   "id": "84271fcc",
   "metadata": {},
   "source": [
    "In order to get the growth curves, we will fit the Chapman-Richards growth function in the data extracted from the literature using `scipy.optimize.curve_fit()`.\n",
    "\n",
    "[scipy.optimize.curve_fit()](https://docs.scipy.org/doc/scipy/reference/generated/scipy.optimize.curve_fit.html) function uses non-linear least squares to fit a function, f, to data."
   ]
  },
  {
   "cell_type": "markdown",
   "id": "8425c3c5",
   "metadata": {},
   "source": [
    "## 3.1 Norway Spruce"
   ]
  },
  {
   "cell_type": "markdown",
   "id": "c700241f",
   "metadata": {},
   "source": [
    "Save data from the literature as `numpy arrays`:"
   ]
  },
  {
   "cell_type": "code",
   "execution_count": 3,
   "id": "2d74be2c",
   "metadata": {},
   "outputs": [],
   "source": [
    "# age\n",
    "x_data_ns = np.array([14, 18, 28, 43, 43, 43, 99, 99, 99, 105, 114, 119])\n",
    "# AGB\n",
    "y_data_ns = np.array([20.99, 31.95, 20.73, 111.71, 112.91, 45.71, 296.97, 104.5, 162.8, 155.73, 199.07, 224.54])"
   ]
  },
  {
   "cell_type": "markdown",
   "id": "e998d181",
   "metadata": {},
   "source": [
    "Fit the growth curve function and get parameters:"
   ]
  },
  {
   "cell_type": "code",
   "execution_count": 4,
   "id": "b1fb0e4c",
   "metadata": {},
   "outputs": [
    {
     "data": {
      "text/plain": [
       "array([2.61126612e+02, 1.74074170e-02, 1.78619818e+00])"
      ]
     },
     "execution_count": 4,
     "metadata": {},
     "output_type": "execute_result"
    }
   ],
   "source": [
    "params_ns, _ = curve_fit(growth_curve, x_data_ns, y_data_ns, [100, 1, 1])\n",
    "params_ns"
   ]
  },
  {
   "cell_type": "markdown",
   "id": "c6e4243c",
   "metadata": {},
   "source": [
    "Visualize the growth curve:"
   ]
  },
  {
   "cell_type": "code",
   "execution_count": 5,
   "id": "392aa1c0",
   "metadata": {},
   "outputs": [
    {
     "data": {
      "image/png": "[encoded data removed]",
      "text/plain": [
       "<Figure size 432x288 with 1 Axes>"
      ]
     },
     "metadata": {
      "needs_background": "light"
     },
     "output_type": "display_data"
    }
   ],
   "source": [
    "plt.scatter(x_data_ns, y_data_ns, label='data', marker='x', c='r')\n",
    "x = np.linspace(1, 120, 120)\n",
    "plt.plot(x, growth_curve(x, *params_ns), 'b-', label='growth curve')\n",
    "\n",
    "plt.title('NORWAY SPRUCE GROWTH CURVE')\n",
    "plt.xlabel('Age (years)')\n",
    "plt.ylabel('AGB (Mg ha-1)')\n",
    "plt.legend()\n",
    "plt.show()"
   ]
  },
  {
   "cell_type": "markdown",
   "id": "ec1b859d",
   "metadata": {},
   "source": [
    "## 3.2 European Beech"
   ]
  },
  {
   "cell_type": "markdown",
   "id": "890631f0",
   "metadata": {},
   "source": [
    "Save data from the literature as `numpy arrays`:"
   ]
  },
  {
   "cell_type": "code",
   "execution_count": 6,
   "id": "977397a3",
   "metadata": {},
   "outputs": [],
   "source": [
    "# age\n",
    "x_data_eb = np.array([30, 40, 55, 55, 60, 60, 85, 85])\n",
    "# AGB\n",
    "y_data_eb = np.array([52.36, 444.5, 130.59, 138.53, 199.45, 38.01, 337.35, 440.36])"
   ]
  },
  {
   "cell_type": "markdown",
   "id": "12e26bc4",
   "metadata": {},
   "source": [
    "Fit the growth curve function and get parameters:"
   ]
  },
  {
   "cell_type": "code",
   "execution_count": 7,
   "id": "bc03f950",
   "metadata": {},
   "outputs": [
    {
     "data": {
      "text/plain": [
       "array([222.64375,   2.7    ,   2.     ])"
      ]
     },
     "execution_count": 7,
     "metadata": {},
     "output_type": "execute_result"
    }
   ],
   "source": [
    "params_eb, _ = curve_fit(growth_curve, x_data_eb, y_data_eb, [300, 2.7, 2])\n",
    "params_eb"
   ]
  },
  {
   "cell_type": "markdown",
   "id": "b2e18da7",
   "metadata": {},
   "source": [
    "Visualize the growth curve:"
   ]
  },
  {
   "cell_type": "code",
   "execution_count": 8,
   "id": "49dde0c7",
   "metadata": {},
   "outputs": [
    {
     "data": {
      "image/png": "[encoded data removed]",
      "text/plain": [
       "<Figure size 432x288 with 1 Axes>"
      ]
     },
     "metadata": {
      "needs_background": "light"
     },
     "output_type": "display_data"
    }
   ],
   "source": [
    "plt.scatter(x_data_eb, y_data_eb, label='data', marker='x', c='r')\n",
    "x = np.linspace(1, 120, 120)\n",
    "plt.plot(x, growth_curve(x, *params_eb), 'b-', label='growth curve')\n",
    "\n",
    "plt.title('EUROPEAN BEECH GROWTH CURVE')\n",
    "plt.xlabel('Age (years)')\n",
    "plt.ylabel('AGB (Mg ha-1)')\n",
    "plt.legend()\n",
    "plt.show()"
   ]
  },
  {
   "cell_type": "markdown",
   "id": "1bbe800d",
   "metadata": {},
   "source": [
    "The data for European Beech is not appropriate for curve fitting. Thus, this model can't be considered for the GCBM simulation."
   ]
  },
  {
   "cell_type": "markdown",
   "id": "12c9793a",
   "metadata": {},
   "source": [
    "## 3.3 Silver Fir"
   ]
  },
  {
   "cell_type": "markdown",
   "id": "add221f1",
   "metadata": {},
   "source": [
    "Save data from the literature as `numpy arrays`:"
   ]
  },
  {
   "cell_type": "code",
   "execution_count": 9,
   "id": "24efebca",
   "metadata": {},
   "outputs": [],
   "source": [
    "# age\n",
    "x_data_sf = np.array([33, 45, 60, 60, 75, 85, 91, 115])\n",
    "# AGB\n",
    "y_data_sf = np.array([26.02, 108.27, 61.76, 92.54, 246.98, 142.86, 317.32, 226.9])"
   ]
  },
  {
   "cell_type": "markdown",
   "id": "78618e71",
   "metadata": {},
   "source": [
    "Fit the growth curve function and get parameters:"
   ]
  },
  {
   "cell_type": "code",
   "execution_count": 10,
   "id": "700e9811",
   "metadata": {},
   "outputs": [
    {
     "data": {
      "text/plain": [
       "array([2.85665063e+02, 3.96465469e-02, 8.52847805e+00])"
      ]
     },
     "execution_count": 10,
     "metadata": {},
     "output_type": "execute_result"
    }
   ],
   "source": [
    "params_sf, _ = curve_fit(growth_curve, x_data_sf, y_data_sf, [250, 0.3, 1])\n",
    "params_sf"
   ]
  },
  {
   "cell_type": "markdown",
   "id": "61445e29",
   "metadata": {},
   "source": [
    "Visualize the growth curve:"
   ]
  },
  {
   "cell_type": "code",
   "execution_count": 11,
   "id": "93eb3d81",
   "metadata": {},
   "outputs": [
    {
     "data": {
      "image/png": "[encoded data removed]",
      "text/plain": [
       "<Figure size 432x288 with 1 Axes>"
      ]
     },
     "metadata": {
      "needs_background": "light"
     },
     "output_type": "display_data"
    }
   ],
   "source": [
    "plt.scatter(x_data_sf, y_data_sf, label='data', marker='x', c='r')\n",
    "x = np.linspace(1, 120, 120)\n",
    "plt.plot(x, growth_curve(x, *params_sf), 'b-', label='growth curve')\n",
    "\n",
    "plt.title('SILVER FIR GROWTH CURVE')\n",
    "plt.xlabel('Age (years)')\n",
    "plt.ylabel('AGB (Mg ha-1)')\n",
    "plt.legend()\n",
    "plt.show()"
   ]
  },
  {
   "cell_type": "markdown",
   "id": "34cc9648",
   "metadata": {},
   "source": [
    "# 4. Make csv file"
   ]
  },
  {
   "cell_type": "markdown",
   "id": "ae5e4258",
   "metadata": {},
   "source": [
    "For now, only Norway Spruce growth curve will be used. Save it as a csv file.\n",
    "\n",
    "Note: Check if the selected `species` can be used for the simulation from `GCBM.Carpathians/Standalone_GCBM/documentation/species_names.csv`([link](https://github.com/moja-global/GCBM.Carpathians/blob/main/Standalone_GCBM/documentation/species_names.csv))"
   ]
  },
  {
   "cell_type": "code",
   "execution_count": 12,
   "id": "c2bff23a",
   "metadata": {},
   "outputs": [],
   "source": [
    "agb_values = [growth_curve(age, *params_ns) for age in range(201)]\n",
    "header     = ['LifeZone', 'AIDBSPP'] + list(range(201))\n",
    "life_zones = ['Boreal wet forest', 'Cool temperate moist forest', 'Cool temperate steppe', \n",
    "              'Cool temperate wet forest', 'Polar rain tundra']\n",
    "species    = 'Norway spruce'"
   ]
  },
  {
   "cell_type": "code",
   "execution_count": 13,
   "id": "39a1e6b1",
   "metadata": {},
   "outputs": [],
   "source": [
    "if not os.path.exists('output'):\n",
    "    os.makedirs('output')\n",
    "\n",
    "with open(os.path.join('output', 'Growth_Curves.csv'), 'w') as gc_file:\n",
    "    gc_writer = csv.writer(gc_file, delimiter=',', quotechar='\"', quoting=csv.QUOTE_MINIMAL)\n",
    "    \n",
    "    gc_writer.writerow(header)\n",
    "    for life_zone in life_zones:\n",
    "        gc_writer.writerow([life_zone] + [species] + agb_values)"
   ]
  },
  {
   "cell_type": "markdown",
   "id": "65831efa",
   "metadata": {},
   "source": [
    "Check the final result:"
   ]
  },
  {
   "cell_type": "code",
   "execution_count": 14,
   "id": "d925e4ca",
   "metadata": {},
   "outputs": [
    {
     "name": "stdout",
     "output_type": "stream",
     "text": [
      "                      LifeZone        AIDBSPP    0        1         2  \\\n",
      "0            Boreal wet forest  Norway spruce  0.0  0.18523  0.629055   \n",
      "1  Cool temperate moist forest  Norway spruce  0.0  0.18523  0.629055   \n",
      "2        Cool temperate steppe  Norway spruce  0.0  0.18523  0.629055   \n",
      "3    Cool temperate wet forest  Norway spruce  0.0  0.18523  0.629055   \n",
      "4            Polar rain tundra  Norway spruce  0.0  0.18523  0.629055   \n",
      "\n",
      "          3         4         5         6         7  ...         191  \\\n",
      "0  1.277968  2.103788  3.086305  4.209478  5.459891  ...  244.583056   \n",
      "1  1.277968  2.103788  3.086305  4.209478  5.459891  ...  244.583056   \n",
      "2  1.277968  2.103788  3.086305  4.209478  5.459891  ...  244.583056   \n",
      "3  1.277968  2.103788  3.086305  4.209478  5.459891  ...  244.583056   \n",
      "4  1.277968  2.103788  3.086305  4.209478  5.459891  ...  244.583056   \n",
      "\n",
      "          192         193         194         195        196         197  \\\n",
      "0  244.864499  245.141223  245.413306  245.680824  245.94385  246.202457   \n",
      "1  244.864499  245.141223  245.413306  245.680824  245.94385  246.202457   \n",
      "2  244.864499  245.141223  245.413306  245.680824  245.94385  246.202457   \n",
      "3  244.864499  245.141223  245.413306  245.680824  245.94385  246.202457   \n",
      "4  244.864499  245.141223  245.413306  245.680824  245.94385  246.202457   \n",
      "\n",
      "          198         199         200  \n",
      "0  246.456718  246.706705  246.952486  \n",
      "1  246.456718  246.706705  246.952486  \n",
      "2  246.456718  246.706705  246.952486  \n",
      "3  246.456718  246.706705  246.952486  \n",
      "4  246.456718  246.706705  246.952486  \n",
      "\n",
      "[5 rows x 203 columns]\n"
     ]
    }
   ],
   "source": [
    "data = pd.read_csv(os.path.join('output', 'Growth_Curves.csv'))\n",
    "print(data)"
   ]
  }
 ],
 "metadata": {
  "kernelspec": {
   "display_name": "Python 3 (ipykernel)",
   "language": "python",
   "name": "python3"
  },
  "language_info": {
   "codemirror_mode": {
    "name": "ipython",
    "version": 3
   },
   "file_extension": ".py",
   "mimetype": "text/x-python",
   "name": "python",
   "nbconvert_exporter": "python",
   "pygments_lexer": "ipython3",
   "version": "3.9.12"
  }
 },
 "nbformat": 4,
 "nbformat_minor": 5
}
